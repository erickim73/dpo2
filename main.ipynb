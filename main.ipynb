{
 "cells": [
  {
   "cell_type": "markdown",
   "id": "263d2011",
   "metadata": {},
   "source": [
    "**TRAINING**"
   ]
  },
  {
   "cell_type": "code",
   "execution_count": 14,
   "id": "75313269",
   "metadata": {},
   "outputs": [],
   "source": [
    "import sys\n",
    "sys.path.append('/home/erickim/.pyrosetta/lib/python3.9/site-packages/pyrosetta-2025.13+release.80dd00bc09-py3.9-linux-x86_64.egg')"
   ]
  },
  {
   "cell_type": "code",
   "execution_count": 15,
   "id": "958946c7",
   "metadata": {},
   "outputs": [
    {
     "name": "stdout",
     "output_type": "stream",
     "text": [
      "┌──────────────────────────────────────────────────────────────────────────────┐\n",
      "│                                 PyRosetta-4                                  │\n",
      "│              Created in JHU by Sergey Lyskov and PyRosetta Team              │\n",
      "│              (C) Copyright Rosetta Commons Member Institutions               │\n",
      "│                                                                              │\n",
      "│ NOTE: USE OF PyRosetta FOR COMMERCIAL PURPOSES REQUIRE PURCHASE OF A LICENSE │\n",
      "│         See LICENSE.PyRosetta.md or email license@uw.edu for details         │\n",
      "└──────────────────────────────────────────────────────────────────────────────┘\n",
      "PyRosetta-4 2025 [Rosetta PyRosetta4.MinSizeRel.python39.ubuntu 2025.13+release.80dd00bc09d2543ce4b9a50f13c49219ee5cdd3b 2025-03-27T08:32:50] retrieved from: http://www.pyrosetta.org\n",
      "core.init: Checking for fconfig files in pwd and ./rosetta/flags\n",
      "core.init: Rosetta version: PyRosetta4.MinSizeRel.python39.ubuntu r396 2025.13+release.80dd00bc09 80dd00bc09d2543ce4b9a50f13c49219ee5cdd3b http://www.pyrosetta.org 2025-03-27T08:32:50\n",
      "core.init: Rosetta extras: []\n",
      "core.init: command: PyRosetta -ex1 -ex2aro -database /home/erickim/.pyrosetta/lib/python3.9/site-packages/pyrosetta-2025.13+release.80dd00bc09-py3.9-linux-x86_64.egg/pyrosetta/database\n",
      "basic.random.init_random_generator: 'RNG device' seed mode, using '/dev/urandom', seed=927060396 seed_offset=0 real_seed=927060396\n",
      "basic.random.init_random_generator: RandomGenerator:init: Normal mode, seed=927060396 RG_type=mt19937\n"
     ]
    }
   ],
   "source": [
    "from train import train\n",
    "import time\n",
    "def train_helper(env_name, num_optimize_iters, warm_up_threshold, zero_order, save_interval):\n",
    "    start_time = time.time()\n",
    "    train(env_name, num_optimize_iters, warm_up_threshold, zero_order, save_interval)\n",
    "    print('Training takes {} hours'.format(int(time.time()-start_time)/3600))"
   ]
  },
  {
   "cell_type": "code",
   "execution_count": 12,
   "id": "1b740590",
   "metadata": {},
   "outputs": [],
   "source": [
    "%reload_ext autoreload"
   ]
  },
  {
   "cell_type": "markdown",
   "id": "ce693328",
   "metadata": {},
   "source": [
    "**SHAPE**"
   ]
  },
  {
   "cell_type": "code",
   "execution_count": 16,
   "id": "8417a505",
   "metadata": {},
   "outputs": [
    {
     "name": "stdout",
     "output_type": "stream",
     "text": [
      "Hyperparams: Rate: 0.900, num traj: 128, step size: 0.01000, lr: 0.00100, batch_size: 32, log_interval:1000\n",
      "\n",
      "\n",
      "Currently at stage 0. Reinforce: False\n"
     ]
    },
    {
     "ename": "KeyboardInterrupt",
     "evalue": "",
     "output_type": "error",
     "traceback": [
      "\u001b[0;31m---------------------------------------------------------------------------\u001b[0m",
      "\u001b[0;31mKeyboardInterrupt\u001b[0m                         Traceback (most recent call last)",
      "Cell \u001b[0;32mIn[16], line 5\u001b[0m\n\u001b[1;32m      3\u001b[0m c \u001b[38;5;241m=\u001b[39m \u001b[38;5;241m1.05\u001b[39m\n\u001b[1;32m      4\u001b[0m num_optimize_iters \u001b[38;5;241m=\u001b[39m [\u001b[38;5;28mint\u001b[39m(\u001b[38;5;241m10000\u001b[39m \u001b[38;5;241m*\u001b[39m (c\u001b[38;5;241m*\u001b[39m\u001b[38;5;241m*\u001b[39mi)) \u001b[38;5;28;01mfor\u001b[39;00m i \u001b[38;5;129;01min\u001b[39;00m \u001b[38;5;28mrange\u001b[39m(\u001b[38;5;241m21\u001b[39m)]\n\u001b[0;32m----> 5\u001b[0m \u001b[43mtrain_helper\u001b[49m\u001b[43m(\u001b[49m\u001b[43menv_name\u001b[49m\u001b[43m,\u001b[49m\u001b[43m \u001b[49m\u001b[43mnum_optimize_iters\u001b[49m\u001b[43m,\u001b[49m\u001b[43m \u001b[49m\u001b[43mwarm_up_threshold\u001b[49m\u001b[38;5;241;43m=\u001b[39;49m\u001b[38;5;241;43m15\u001b[39;49m\u001b[43m,\u001b[49m\u001b[43m \u001b[49m\u001b[43mzero_order\u001b[49m\u001b[38;5;241;43m=\u001b[39;49m\u001b[38;5;28;43;01mTrue\u001b[39;49;00m\u001b[43m,\u001b[49m\u001b[43m \u001b[49m\u001b[43msave_interval\u001b[49m\u001b[38;5;241;43m=\u001b[39;49m\u001b[38;5;241;43m5\u001b[39;49m\u001b[43m)\u001b[49m\n",
      "Cell \u001b[0;32mIn[15], line 5\u001b[0m, in \u001b[0;36mtrain_helper\u001b[0;34m(env_name, num_optimize_iters, warm_up_threshold, zero_order, save_interval)\u001b[0m\n\u001b[1;32m      3\u001b[0m \u001b[38;5;28;01mdef\u001b[39;00m\u001b[38;5;250m \u001b[39m\u001b[38;5;21mtrain_helper\u001b[39m(env_name, num_optimize_iters, warm_up_threshold, zero_order, save_interval):\n\u001b[1;32m      4\u001b[0m     start_time \u001b[38;5;241m=\u001b[39m time\u001b[38;5;241m.\u001b[39mtime()\n\u001b[0;32m----> 5\u001b[0m     \u001b[43mtrain\u001b[49m\u001b[43m(\u001b[49m\u001b[43menv_name\u001b[49m\u001b[43m,\u001b[49m\u001b[43m \u001b[49m\u001b[43mnum_optimize_iters\u001b[49m\u001b[43m,\u001b[49m\u001b[43m \u001b[49m\u001b[43mwarm_up_threshold\u001b[49m\u001b[43m,\u001b[49m\u001b[43m \u001b[49m\u001b[43mzero_order\u001b[49m\u001b[43m,\u001b[49m\u001b[43m \u001b[49m\u001b[43msave_interval\u001b[49m\u001b[43m)\u001b[49m\n\u001b[1;32m      6\u001b[0m     \u001b[38;5;28mprint\u001b[39m(\u001b[38;5;124m'\u001b[39m\u001b[38;5;124mTraining takes \u001b[39m\u001b[38;5;132;01m{}\u001b[39;00m\u001b[38;5;124m hours\u001b[39m\u001b[38;5;124m'\u001b[39m\u001b[38;5;241m.\u001b[39mformat(\u001b[38;5;28mint\u001b[39m(time\u001b[38;5;241m.\u001b[39mtime()\u001b[38;5;241m-\u001b[39mstart_time)\u001b[38;5;241m/\u001b[39m\u001b[38;5;241m3600\u001b[39m))\n",
      "File \u001b[0;32m/mnt/c/Users/DELL/dpo2/train.py:77\u001b[0m, in \u001b[0;36mtrain\u001b[0;34m(env_name, num_optimize_iters, exploit_threshold, zero_order, save_interval)\u001b[0m\n\u001b[1;32m     74\u001b[0m memory\u001b[38;5;241m.\u001b[39mrefresh()\n\u001b[1;32m     76\u001b[0m \u001b[38;5;66;03m# Optimize net for next stage from replay memory\u001b[39;00m\n\u001b[0;32m---> 77\u001b[0m \u001b[43moptimize_net\u001b[49m\u001b[43m(\u001b[49m\u001b[43mmemory\u001b[49m\u001b[43m,\u001b[49m\u001b[43m \u001b[49m\u001b[43mmain_net\u001b[49m\u001b[43m,\u001b[49m\u001b[43m \u001b[49m\u001b[43mnum_optimize_iters\u001b[49m\u001b[43m[\u001b[49m\u001b[43mstage\u001b[49m\u001b[43m]\u001b[49m\u001b[43m,\u001b[49m\u001b[43m \u001b[49m\u001b[43mlr\u001b[49m\u001b[43m,\u001b[49m\u001b[43m \u001b[49m\u001b[43mbatch_size\u001b[49m\u001b[43m,\u001b[49m\u001b[43m \u001b[49m\u001b[43mlog_interval\u001b[49m\u001b[43m)\u001b[49m\n\u001b[1;32m     79\u001b[0m \u001b[38;5;66;03m# Save periodically\u001b[39;00m\n\u001b[1;32m     80\u001b[0m \u001b[38;5;28;01mif\u001b[39;00m stage \u001b[38;5;241m%\u001b[39m save_interval \u001b[38;5;241m==\u001b[39m \u001b[38;5;241m0\u001b[39m:\n",
      "File \u001b[0;32m/mnt/c/Users/DELL/dpo2/train.py:13\u001b[0m, in \u001b[0;36moptimize_net\u001b[0;34m(memory, main_net, num_iter, lr, batch_size, log_interval)\u001b[0m\n\u001b[1;32m     11\u001b[0m cnt \u001b[38;5;241m=\u001b[39m \u001b[38;5;241m0\u001b[39m\n\u001b[1;32m     12\u001b[0m \u001b[38;5;66;03m# Setup optimizers\u001b[39;00m\n\u001b[0;32m---> 13\u001b[0m optim \u001b[38;5;241m=\u001b[39m \u001b[43mtorch\u001b[49m\u001b[38;5;241;43m.\u001b[39;49m\u001b[43moptim\u001b[49m\u001b[38;5;241;43m.\u001b[39;49m\u001b[43mAdam\u001b[49m\u001b[43m(\u001b[49m\u001b[43mmain_net\u001b[49m\u001b[38;5;241;43m.\u001b[39;49m\u001b[43mparameters\u001b[49m\u001b[43m(\u001b[49m\u001b[43m)\u001b[49m\u001b[43m,\u001b[49m\u001b[43m \u001b[49m\u001b[43mlr\u001b[49m\u001b[38;5;241;43m=\u001b[39;49m\u001b[43mlr\u001b[49m\u001b[43m)\u001b[49m\n\u001b[1;32m     14\u001b[0m criterion \u001b[38;5;241m=\u001b[39m torch\u001b[38;5;241m.\u001b[39mnn\u001b[38;5;241m.\u001b[39mL1Loss()\n\u001b[1;32m     16\u001b[0m \u001b[38;5;66;03m# Training main net.\u001b[39;00m\n",
      "File \u001b[0;32m/mnt/c/Users/DELL/dpo2/.venv/lib/python3.9/site-packages/torch/optim/adam.py:99\u001b[0m, in \u001b[0;36mAdam.__init__\u001b[0;34m(self, params, lr, betas, eps, weight_decay, amsgrad, foreach, maximize, capturable, differentiable, fused)\u001b[0m\n\u001b[1;32m     85\u001b[0m         \u001b[38;5;28;01mraise\u001b[39;00m \u001b[38;5;167;01mValueError\u001b[39;00m(\u001b[38;5;124m\"\u001b[39m\u001b[38;5;124mTensor betas[1] must be 1-element\u001b[39m\u001b[38;5;124m\"\u001b[39m)\n\u001b[1;32m     87\u001b[0m defaults \u001b[38;5;241m=\u001b[39m \u001b[38;5;28mdict\u001b[39m(\n\u001b[1;32m     88\u001b[0m     lr\u001b[38;5;241m=\u001b[39mlr,\n\u001b[1;32m     89\u001b[0m     betas\u001b[38;5;241m=\u001b[39mbetas,\n\u001b[0;32m   (...)\u001b[0m\n\u001b[1;32m     97\u001b[0m     fused\u001b[38;5;241m=\u001b[39mfused,\n\u001b[1;32m     98\u001b[0m )\n\u001b[0;32m---> 99\u001b[0m \u001b[38;5;28;43msuper\u001b[39;49m\u001b[43m(\u001b[49m\u001b[43m)\u001b[49m\u001b[38;5;241;43m.\u001b[39;49m\u001b[38;5;21;43m__init__\u001b[39;49m\u001b[43m(\u001b[49m\u001b[43mparams\u001b[49m\u001b[43m,\u001b[49m\u001b[43m \u001b[49m\u001b[43mdefaults\u001b[49m\u001b[43m)\u001b[49m\n\u001b[1;32m    101\u001b[0m \u001b[38;5;28;01mif\u001b[39;00m fused:\n\u001b[1;32m    102\u001b[0m     \u001b[38;5;28;01mif\u001b[39;00m differentiable:\n",
      "File \u001b[0;32m/mnt/c/Users/DELL/dpo2/.venv/lib/python3.9/site-packages/torch/optim/optimizer.py:377\u001b[0m, in \u001b[0;36mOptimizer.__init__\u001b[0;34m(self, params, defaults)\u001b[0m\n\u001b[1;32m    374\u001b[0m     param_groups \u001b[38;5;241m=\u001b[39m [{\u001b[38;5;124m\"\u001b[39m\u001b[38;5;124mparams\u001b[39m\u001b[38;5;124m\"\u001b[39m: param_groups}]\n\u001b[1;32m    376\u001b[0m \u001b[38;5;28;01mfor\u001b[39;00m param_group \u001b[38;5;129;01min\u001b[39;00m param_groups:\n\u001b[0;32m--> 377\u001b[0m     \u001b[38;5;28;43mself\u001b[39;49m\u001b[38;5;241;43m.\u001b[39;49m\u001b[43madd_param_group\u001b[49m\u001b[43m(\u001b[49m\u001b[43mcast\u001b[49m\u001b[43m(\u001b[49m\u001b[38;5;28;43mdict\u001b[39;49m\u001b[43m,\u001b[49m\u001b[43m \u001b[49m\u001b[43mparam_group\u001b[49m\u001b[43m)\u001b[49m\u001b[43m)\u001b[49m\n\u001b[1;32m    379\u001b[0m \u001b[38;5;66;03m# Allows _cuda_graph_capture_health_check to rig a poor man's TORCH_WARN_ONCE in python,\u001b[39;00m\n\u001b[1;32m    380\u001b[0m \u001b[38;5;66;03m# which I don't think exists\u001b[39;00m\n\u001b[1;32m    381\u001b[0m \u001b[38;5;66;03m# https://github.com/pytorch/pytorch/issues/72948\u001b[39;00m\n\u001b[1;32m    382\u001b[0m \u001b[38;5;28mself\u001b[39m\u001b[38;5;241m.\u001b[39m_warned_capturable_if_run_uncaptured \u001b[38;5;241m=\u001b[39m \u001b[38;5;28;01mTrue\u001b[39;00m\n",
      "File \u001b[0;32m/mnt/c/Users/DELL/dpo2/.venv/lib/python3.9/site-packages/torch/_compile.py:27\u001b[0m, in \u001b[0;36m_disable_dynamo.<locals>.inner\u001b[0;34m(*args, **kwargs)\u001b[0m\n\u001b[1;32m     25\u001b[0m disable_fn \u001b[38;5;241m=\u001b[39m \u001b[38;5;28mgetattr\u001b[39m(fn, \u001b[38;5;124m\"\u001b[39m\u001b[38;5;124m__dynamo_disable\u001b[39m\u001b[38;5;124m\"\u001b[39m, \u001b[38;5;28;01mNone\u001b[39;00m)\n\u001b[1;32m     26\u001b[0m \u001b[38;5;28;01mif\u001b[39;00m disable_fn \u001b[38;5;129;01mis\u001b[39;00m \u001b[38;5;28;01mNone\u001b[39;00m:\n\u001b[0;32m---> 27\u001b[0m     \u001b[38;5;28;01mimport\u001b[39;00m\u001b[38;5;250m \u001b[39m\u001b[38;5;21;01mtorch\u001b[39;00m\u001b[38;5;21;01m.\u001b[39;00m\u001b[38;5;21;01m_dynamo\u001b[39;00m\n\u001b[1;32m     29\u001b[0m     disable_fn \u001b[38;5;241m=\u001b[39m torch\u001b[38;5;241m.\u001b[39m_dynamo\u001b[38;5;241m.\u001b[39mdisable(fn, recursive)\n\u001b[1;32m     30\u001b[0m     fn\u001b[38;5;241m.\u001b[39m__dynamo_disable \u001b[38;5;241m=\u001b[39m disable_fn\n",
      "File \u001b[0;32m/mnt/c/Users/DELL/dpo2/.venv/lib/python3.9/site-packages/torch/_dynamo/__init__.py:3\u001b[0m\n\u001b[1;32m      1\u001b[0m \u001b[38;5;28;01mimport\u001b[39;00m\u001b[38;5;250m \u001b[39m\u001b[38;5;21;01mtorch\u001b[39;00m\n\u001b[0;32m----> 3\u001b[0m \u001b[38;5;28;01mfrom\u001b[39;00m\u001b[38;5;250m \u001b[39m\u001b[38;5;21;01m.\u001b[39;00m\u001b[38;5;250m \u001b[39m\u001b[38;5;28;01mimport\u001b[39;00m convert_frame, eval_frame, resume_execution\n\u001b[1;32m      4\u001b[0m \u001b[38;5;28;01mfrom\u001b[39;00m\u001b[38;5;250m \u001b[39m\u001b[38;5;21;01m.\u001b[39;00m\u001b[38;5;21;01mbackends\u001b[39;00m\u001b[38;5;21;01m.\u001b[39;00m\u001b[38;5;21;01mregistry\u001b[39;00m\u001b[38;5;250m \u001b[39m\u001b[38;5;28;01mimport\u001b[39;00m list_backends, lookup_backend, register_backend\n\u001b[1;32m      5\u001b[0m \u001b[38;5;28;01mfrom\u001b[39;00m\u001b[38;5;250m \u001b[39m\u001b[38;5;21;01m.\u001b[39;00m\u001b[38;5;21;01mcallback\u001b[39;00m\u001b[38;5;250m \u001b[39m\u001b[38;5;28;01mimport\u001b[39;00m callback_handler, on_compile_end, on_compile_start\n",
      "File \u001b[0;32m/mnt/c/Users/DELL/dpo2/.venv/lib/python3.9/site-packages/torch/_dynamo/convert_frame.py:33\u001b[0m\n\u001b[1;32m     31\u001b[0m \u001b[38;5;28;01mfrom\u001b[39;00m\u001b[38;5;250m \u001b[39m\u001b[38;5;21;01mtorch\u001b[39;00m\u001b[38;5;21;01m.\u001b[39;00m\u001b[38;5;21;01m_C\u001b[39;00m\u001b[38;5;21;01m.\u001b[39;00m\u001b[38;5;21;01m_dynamo\u001b[39;00m\u001b[38;5;21;01m.\u001b[39;00m\u001b[38;5;21;01mguards\u001b[39;00m\u001b[38;5;250m \u001b[39m\u001b[38;5;28;01mimport\u001b[39;00m GlobalStateGuard\n\u001b[1;32m     32\u001b[0m \u001b[38;5;28;01mfrom\u001b[39;00m\u001b[38;5;250m \u001b[39m\u001b[38;5;21;01mtorch\u001b[39;00m\u001b[38;5;21;01m.\u001b[39;00m\u001b[38;5;21;01m_dynamo\u001b[39;00m\u001b[38;5;21;01m.\u001b[39;00m\u001b[38;5;21;01mdistributed\u001b[39;00m\u001b[38;5;250m \u001b[39m\u001b[38;5;28;01mimport\u001b[39;00m get_compile_pg\n\u001b[0;32m---> 33\u001b[0m \u001b[38;5;28;01mfrom\u001b[39;00m\u001b[38;5;250m \u001b[39m\u001b[38;5;21;01mtorch\u001b[39;00m\u001b[38;5;21;01m.\u001b[39;00m\u001b[38;5;21;01m_dynamo\u001b[39;00m\u001b[38;5;21;01m.\u001b[39;00m\u001b[38;5;21;01msymbolic_convert\u001b[39;00m\u001b[38;5;250m \u001b[39m\u001b[38;5;28;01mimport\u001b[39;00m TensorifyState\n\u001b[1;32m     34\u001b[0m \u001b[38;5;28;01mfrom\u001b[39;00m\u001b[38;5;250m \u001b[39m\u001b[38;5;21;01mtorch\u001b[39;00m\u001b[38;5;21;01m.\u001b[39;00m\u001b[38;5;21;01m_guards\u001b[39;00m\u001b[38;5;250m \u001b[39m\u001b[38;5;28;01mimport\u001b[39;00m compile_context, CompileContext, CompileId, tracing\n\u001b[1;32m     35\u001b[0m \u001b[38;5;28;01mfrom\u001b[39;00m\u001b[38;5;250m \u001b[39m\u001b[38;5;21;01mtorch\u001b[39;00m\u001b[38;5;21;01m.\u001b[39;00m\u001b[38;5;21;01m_logging\u001b[39;00m\u001b[38;5;250m \u001b[39m\u001b[38;5;28;01mimport\u001b[39;00m structured\n",
      "File \u001b[0;32m/mnt/c/Users/DELL/dpo2/.venv/lib/python3.9/site-packages/torch/_dynamo/symbolic_convert.py:27\u001b[0m\n\u001b[1;32m     25\u001b[0m \u001b[38;5;28;01mimport\u001b[39;00m\u001b[38;5;250m \u001b[39m\u001b[38;5;21;01mtorch\u001b[39;00m\n\u001b[1;32m     26\u001b[0m \u001b[38;5;28;01mimport\u001b[39;00m\u001b[38;5;250m \u001b[39m\u001b[38;5;21;01mtorch\u001b[39;00m\u001b[38;5;21;01m.\u001b[39;00m\u001b[38;5;21;01m_logging\u001b[39;00m\n\u001b[0;32m---> 27\u001b[0m \u001b[38;5;28;01mfrom\u001b[39;00m\u001b[38;5;250m \u001b[39m\u001b[38;5;21;01mtorch\u001b[39;00m\u001b[38;5;21;01m.\u001b[39;00m\u001b[38;5;21;01m_dynamo\u001b[39;00m\u001b[38;5;21;01m.\u001b[39;00m\u001b[38;5;21;01mexc\u001b[39;00m\u001b[38;5;250m \u001b[39m\u001b[38;5;28;01mimport\u001b[39;00m TensorifyScalarRestartAnalysis\n\u001b[1;32m     28\u001b[0m \u001b[38;5;28;01mfrom\u001b[39;00m\u001b[38;5;250m \u001b[39m\u001b[38;5;21;01mtorch\u001b[39;00m\u001b[38;5;21;01m.\u001b[39;00m\u001b[38;5;21;01m_guards\u001b[39;00m\u001b[38;5;250m \u001b[39m\u001b[38;5;28;01mimport\u001b[39;00m tracing, TracingContext\n\u001b[1;32m     30\u001b[0m \u001b[38;5;28;01mfrom\u001b[39;00m\u001b[38;5;250m \u001b[39m\u001b[38;5;21;01m.\u001b[39;00m\u001b[38;5;250m \u001b[39m\u001b[38;5;28;01mimport\u001b[39;00m config, exc, logging \u001b[38;5;28;01mas\u001b[39;00m torchdynamo_logging, trace_rules, variables\n",
      "File \u001b[0;32m/mnt/c/Users/DELL/dpo2/.venv/lib/python3.9/site-packages/torch/_dynamo/exc.py:11\u001b[0m\n\u001b[1;32m      8\u001b[0m \u001b[38;5;28;01mimport\u001b[39;00m\u001b[38;5;250m \u001b[39m\u001b[38;5;21;01mtorch\u001b[39;00m\u001b[38;5;21;01m.\u001b[39;00m\u001b[38;5;21;01m_guards\u001b[39;00m\n\u001b[1;32m     10\u001b[0m \u001b[38;5;28;01mfrom\u001b[39;00m\u001b[38;5;250m \u001b[39m\u001b[38;5;21;01m.\u001b[39;00m\u001b[38;5;250m \u001b[39m\u001b[38;5;28;01mimport\u001b[39;00m config\n\u001b[0;32m---> 11\u001b[0m \u001b[38;5;28;01mfrom\u001b[39;00m\u001b[38;5;250m \u001b[39m\u001b[38;5;21;01m.\u001b[39;00m\u001b[38;5;21;01mutils\u001b[39;00m\u001b[38;5;250m \u001b[39m\u001b[38;5;28;01mimport\u001b[39;00m counters\n\u001b[1;32m     14\u001b[0m \u001b[38;5;28;01mif\u001b[39;00m TYPE_CHECKING:\n\u001b[1;32m     15\u001b[0m     \u001b[38;5;28;01mfrom\u001b[39;00m\u001b[38;5;250m \u001b[39m\u001b[38;5;21;01mtorch\u001b[39;00m\u001b[38;5;21;01m.\u001b[39;00m\u001b[38;5;21;01m_guards\u001b[39;00m\u001b[38;5;250m \u001b[39m\u001b[38;5;28;01mimport\u001b[39;00m CompileId\n",
      "File \u001b[0;32m/mnt/c/Users/DELL/dpo2/.venv/lib/python3.9/site-packages/torch/_dynamo/utils.py:66\u001b[0m\n\u001b[1;32m     64\u001b[0m \u001b[38;5;28;01mimport\u001b[39;00m\u001b[38;5;250m \u001b[39m\u001b[38;5;21;01mtorch\u001b[39;00m\n\u001b[1;32m     65\u001b[0m \u001b[38;5;28;01mimport\u001b[39;00m\u001b[38;5;250m \u001b[39m\u001b[38;5;21;01mtorch\u001b[39;00m\u001b[38;5;21;01m.\u001b[39;00m\u001b[38;5;21;01m_functorch\u001b[39;00m\u001b[38;5;21;01m.\u001b[39;00m\u001b[38;5;21;01mconfig\u001b[39;00m\n\u001b[0;32m---> 66\u001b[0m \u001b[38;5;28;01mimport\u001b[39;00m\u001b[38;5;250m \u001b[39m\u001b[38;5;21;01mtorch\u001b[39;00m\u001b[38;5;21;01m.\u001b[39;00m\u001b[38;5;21;01mfx\u001b[39;00m\u001b[38;5;21;01m.\u001b[39;00m\u001b[38;5;21;01mexperimental\u001b[39;00m\u001b[38;5;21;01m.\u001b[39;00m\u001b[38;5;21;01msymbolic_shapes\u001b[39;00m\n\u001b[1;32m     67\u001b[0m \u001b[38;5;28;01mimport\u001b[39;00m\u001b[38;5;250m \u001b[39m\u001b[38;5;21;01mtorch\u001b[39;00m\u001b[38;5;21;01m.\u001b[39;00m\u001b[38;5;21;01mutils\u001b[39;00m\u001b[38;5;21;01m.\u001b[39;00m\u001b[38;5;21;01m_pytree\u001b[39;00m\u001b[38;5;250m \u001b[39m\u001b[38;5;28;01mas\u001b[39;00m\u001b[38;5;250m \u001b[39m\u001b[38;5;21;01mpytree\u001b[39;00m\n\u001b[1;32m     68\u001b[0m \u001b[38;5;28;01mfrom\u001b[39;00m\u001b[38;5;250m \u001b[39m\u001b[38;5;21;01mtorch\u001b[39;00m\u001b[38;5;250m \u001b[39m\u001b[38;5;28;01mimport\u001b[39;00m fx\n",
      "File \u001b[0;32m/mnt/c/Users/DELL/dpo2/.venv/lib/python3.9/site-packages/torch/fx/experimental/symbolic_shapes.py:74\u001b[0m\n\u001b[1;32m     72\u001b[0m \u001b[38;5;28;01mfrom\u001b[39;00m\u001b[38;5;250m \u001b[39m\u001b[38;5;21;01mtorch\u001b[39;00m\u001b[38;5;21;01m.\u001b[39;00m\u001b[38;5;21;01mutils\u001b[39;00m\u001b[38;5;21;01m.\u001b[39;00m\u001b[38;5;21;01m_ordered_set\u001b[39;00m\u001b[38;5;250m \u001b[39m\u001b[38;5;28;01mimport\u001b[39;00m OrderedSet\n\u001b[1;32m     73\u001b[0m \u001b[38;5;28;01mfrom\u001b[39;00m\u001b[38;5;250m \u001b[39m\u001b[38;5;21;01mtorch\u001b[39;00m\u001b[38;5;21;01m.\u001b[39;00m\u001b[38;5;21;01mutils\u001b[39;00m\u001b[38;5;21;01m.\u001b[39;00m\u001b[38;5;21;01m_python_dispatch\u001b[39;00m\u001b[38;5;250m \u001b[39m\u001b[38;5;28;01mimport\u001b[39;00m is_traceable_wrapper_subclass\n\u001b[0;32m---> 74\u001b[0m \u001b[38;5;28;01mfrom\u001b[39;00m\u001b[38;5;250m \u001b[39m\u001b[38;5;21;01mtorch\u001b[39;00m\u001b[38;5;21;01m.\u001b[39;00m\u001b[38;5;21;01mutils\u001b[39;00m\u001b[38;5;21;01m.\u001b[39;00m\u001b[38;5;21;01m_sympy\u001b[39;00m\u001b[38;5;21;01m.\u001b[39;00m\u001b[38;5;21;01mfunctions\u001b[39;00m\u001b[38;5;250m \u001b[39m\u001b[38;5;28;01mimport\u001b[39;00m (\n\u001b[1;32m     75\u001b[0m     Application,\n\u001b[1;32m     76\u001b[0m     CeilToInt,\n\u001b[1;32m     77\u001b[0m     CleanDiv,\n\u001b[1;32m     78\u001b[0m     FloorDiv,\n\u001b[1;32m     79\u001b[0m     FloorToInt,\n\u001b[1;32m     80\u001b[0m     IsNonOverlappingAndDenseIndicator,\n\u001b[1;32m     81\u001b[0m     Mod,\n\u001b[1;32m     82\u001b[0m     PythonMod,\n\u001b[1;32m     83\u001b[0m )\n\u001b[1;32m     84\u001b[0m \u001b[38;5;28;01mfrom\u001b[39;00m\u001b[38;5;250m \u001b[39m\u001b[38;5;21;01mtorch\u001b[39;00m\u001b[38;5;21;01m.\u001b[39;00m\u001b[38;5;21;01mutils\u001b[39;00m\u001b[38;5;21;01m.\u001b[39;00m\u001b[38;5;21;01m_sympy\u001b[39;00m\u001b[38;5;21;01m.\u001b[39;00m\u001b[38;5;21;01mnumbers\u001b[39;00m\u001b[38;5;250m \u001b[39m\u001b[38;5;28;01mimport\u001b[39;00m int_oo\n\u001b[1;32m     85\u001b[0m \u001b[38;5;28;01mfrom\u001b[39;00m\u001b[38;5;250m \u001b[39m\u001b[38;5;21;01mtorch\u001b[39;00m\u001b[38;5;21;01m.\u001b[39;00m\u001b[38;5;21;01mutils\u001b[39;00m\u001b[38;5;21;01m.\u001b[39;00m\u001b[38;5;21;01m_sympy\u001b[39;00m\u001b[38;5;21;01m.\u001b[39;00m\u001b[38;5;21;01mprinters\u001b[39;00m\u001b[38;5;250m \u001b[39m\u001b[38;5;28;01mimport\u001b[39;00m PythonPrinter\n",
      "File \u001b[0;32m/mnt/c/Users/DELL/dpo2/.venv/lib/python3.9/site-packages/torch/utils/_sympy/functions.py:18\u001b[0m\n\u001b[1;32m      5\u001b[0m \u001b[38;5;28;01mimport\u001b[39;00m\u001b[38;5;250m \u001b[39m\u001b[38;5;21;01msys\u001b[39;00m\n\u001b[1;32m      6\u001b[0m \u001b[38;5;28;01mfrom\u001b[39;00m\u001b[38;5;250m \u001b[39m\u001b[38;5;21;01mtyping\u001b[39;00m\u001b[38;5;250m \u001b[39m\u001b[38;5;28;01mimport\u001b[39;00m (\n\u001b[1;32m      7\u001b[0m     Any,\n\u001b[1;32m      8\u001b[0m     Callable,\n\u001b[0;32m   (...)\u001b[0m\n\u001b[1;32m     15\u001b[0m     Union,\n\u001b[1;32m     16\u001b[0m )\n\u001b[0;32m---> 18\u001b[0m \u001b[38;5;28;01mimport\u001b[39;00m\u001b[38;5;250m \u001b[39m\u001b[38;5;21;01msympy\u001b[39;00m\n\u001b[1;32m     19\u001b[0m \u001b[38;5;28;01mfrom\u001b[39;00m\u001b[38;5;250m \u001b[39m\u001b[38;5;21;01msympy\u001b[39;00m\u001b[38;5;250m \u001b[39m\u001b[38;5;28;01mimport\u001b[39;00m S\n\u001b[1;32m     20\u001b[0m \u001b[38;5;28;01mfrom\u001b[39;00m\u001b[38;5;250m \u001b[39m\u001b[38;5;21;01msympy\u001b[39;00m\u001b[38;5;21;01m.\u001b[39;00m\u001b[38;5;21;01mcore\u001b[39;00m\u001b[38;5;250m \u001b[39m\u001b[38;5;28;01mimport\u001b[39;00m sympify\n",
      "File \u001b[0;32m/mnt/c/Users/DELL/dpo2/.venv/lib/python3.9/site-packages/sympy/__init__.py:30\u001b[0m\n\u001b[1;32m     27\u001b[0m \u001b[38;5;28;01mdel\u001b[39;00m mpmath\n\u001b[1;32m     29\u001b[0m \u001b[38;5;28;01mfrom\u001b[39;00m\u001b[38;5;250m \u001b[39m\u001b[38;5;21;01msympy\u001b[39;00m\u001b[38;5;21;01m.\u001b[39;00m\u001b[38;5;21;01mrelease\u001b[39;00m\u001b[38;5;250m \u001b[39m\u001b[38;5;28;01mimport\u001b[39;00m __version__\n\u001b[0;32m---> 30\u001b[0m \u001b[38;5;28;01mfrom\u001b[39;00m\u001b[38;5;250m \u001b[39m\u001b[38;5;21;01msympy\u001b[39;00m\u001b[38;5;21;01m.\u001b[39;00m\u001b[38;5;21;01mcore\u001b[39;00m\u001b[38;5;21;01m.\u001b[39;00m\u001b[38;5;21;01mcache\u001b[39;00m\u001b[38;5;250m \u001b[39m\u001b[38;5;28;01mimport\u001b[39;00m lazy_function\n\u001b[1;32m     32\u001b[0m \u001b[38;5;28;01mif\u001b[39;00m \u001b[38;5;124m'\u001b[39m\u001b[38;5;124mdev\u001b[39m\u001b[38;5;124m'\u001b[39m \u001b[38;5;129;01min\u001b[39;00m __version__:\n\u001b[1;32m     33\u001b[0m     \u001b[38;5;28;01mdef\u001b[39;00m\u001b[38;5;250m \u001b[39m\u001b[38;5;21menable_warnings\u001b[39m():\n",
      "File \u001b[0;32m/mnt/c/Users/DELL/dpo2/.venv/lib/python3.9/site-packages/sympy/core/__init__.py:9\u001b[0m\n\u001b[1;32m      7\u001b[0m \u001b[38;5;28;01mfrom\u001b[39;00m\u001b[38;5;250m \u001b[39m\u001b[38;5;21;01m.\u001b[39;00m\u001b[38;5;21;01mbasic\u001b[39;00m\u001b[38;5;250m \u001b[39m\u001b[38;5;28;01mimport\u001b[39;00m Basic, Atom\n\u001b[1;32m      8\u001b[0m \u001b[38;5;28;01mfrom\u001b[39;00m\u001b[38;5;250m \u001b[39m\u001b[38;5;21;01m.\u001b[39;00m\u001b[38;5;21;01msingleton\u001b[39;00m\u001b[38;5;250m \u001b[39m\u001b[38;5;28;01mimport\u001b[39;00m S\n\u001b[0;32m----> 9\u001b[0m \u001b[38;5;28;01mfrom\u001b[39;00m\u001b[38;5;250m \u001b[39m\u001b[38;5;21;01m.\u001b[39;00m\u001b[38;5;21;01mexpr\u001b[39;00m\u001b[38;5;250m \u001b[39m\u001b[38;5;28;01mimport\u001b[39;00m Expr, AtomicExpr, UnevaluatedExpr\n\u001b[1;32m     10\u001b[0m \u001b[38;5;28;01mfrom\u001b[39;00m\u001b[38;5;250m \u001b[39m\u001b[38;5;21;01m.\u001b[39;00m\u001b[38;5;21;01msymbol\u001b[39;00m\u001b[38;5;250m \u001b[39m\u001b[38;5;28;01mimport\u001b[39;00m Symbol, Wild, Dummy, symbols, var\n\u001b[1;32m     11\u001b[0m \u001b[38;5;28;01mfrom\u001b[39;00m\u001b[38;5;250m \u001b[39m\u001b[38;5;21;01m.\u001b[39;00m\u001b[38;5;21;01mnumbers\u001b[39;00m\u001b[38;5;250m \u001b[39m\u001b[38;5;28;01mimport\u001b[39;00m Number, Float, Rational, Integer, NumberSymbol, \\\n\u001b[1;32m     12\u001b[0m     RealNumber, igcd, ilcm, seterr, E, I, nan, oo, pi, zoo, \\\n\u001b[1;32m     13\u001b[0m     AlgebraicNumber, comp, mod_inverse\n",
      "File \u001b[0;32m/mnt/c/Users/DELL/dpo2/.venv/lib/python3.9/site-packages/sympy/core/expr.py:11\u001b[0m\n\u001b[1;32m      9\u001b[0m \u001b[38;5;28;01mfrom\u001b[39;00m\u001b[38;5;250m \u001b[39m\u001b[38;5;21;01m.\u001b[39;00m\u001b[38;5;21;01mbasic\u001b[39;00m\u001b[38;5;250m \u001b[39m\u001b[38;5;28;01mimport\u001b[39;00m Basic, Atom\n\u001b[1;32m     10\u001b[0m \u001b[38;5;28;01mfrom\u001b[39;00m\u001b[38;5;250m \u001b[39m\u001b[38;5;21;01m.\u001b[39;00m\u001b[38;5;21;01msingleton\u001b[39;00m\u001b[38;5;250m \u001b[39m\u001b[38;5;28;01mimport\u001b[39;00m S\n\u001b[0;32m---> 11\u001b[0m \u001b[38;5;28;01mfrom\u001b[39;00m\u001b[38;5;250m \u001b[39m\u001b[38;5;21;01m.\u001b[39;00m\u001b[38;5;21;01mevalf\u001b[39;00m\u001b[38;5;250m \u001b[39m\u001b[38;5;28;01mimport\u001b[39;00m EvalfMixin, pure_complex, DEFAULT_MAXPREC\n\u001b[1;32m     12\u001b[0m \u001b[38;5;28;01mfrom\u001b[39;00m\u001b[38;5;250m \u001b[39m\u001b[38;5;21;01m.\u001b[39;00m\u001b[38;5;21;01mdecorators\u001b[39;00m\u001b[38;5;250m \u001b[39m\u001b[38;5;28;01mimport\u001b[39;00m call_highest_priority, sympify_method_args, sympify_return\n\u001b[1;32m     13\u001b[0m \u001b[38;5;28;01mfrom\u001b[39;00m\u001b[38;5;250m \u001b[39m\u001b[38;5;21;01m.\u001b[39;00m\u001b[38;5;21;01mcache\u001b[39;00m\u001b[38;5;250m \u001b[39m\u001b[38;5;28;01mimport\u001b[39;00m cacheit\n",
      "File \u001b[0;32m/mnt/c/Users/DELL/dpo2/.venv/lib/python3.9/site-packages/sympy/core/evalf.py:27\u001b[0m\n\u001b[1;32m     25\u001b[0m \u001b[38;5;28;01mfrom\u001b[39;00m\u001b[38;5;250m \u001b[39m\u001b[38;5;21;01m.\u001b[39;00m\u001b[38;5;21;01msympify\u001b[39;00m\u001b[38;5;250m \u001b[39m\u001b[38;5;28;01mimport\u001b[39;00m sympify\n\u001b[1;32m     26\u001b[0m \u001b[38;5;28;01mfrom\u001b[39;00m\u001b[38;5;250m \u001b[39m\u001b[38;5;21;01m.\u001b[39;00m\u001b[38;5;21;01msingleton\u001b[39;00m\u001b[38;5;250m \u001b[39m\u001b[38;5;28;01mimport\u001b[39;00m S\n\u001b[0;32m---> 27\u001b[0m \u001b[38;5;28;01mfrom\u001b[39;00m\u001b[38;5;250m \u001b[39m\u001b[38;5;21;01msympy\u001b[39;00m\u001b[38;5;21;01m.\u001b[39;00m\u001b[38;5;21;01mexternal\u001b[39;00m\u001b[38;5;21;01m.\u001b[39;00m\u001b[38;5;21;01mgmpy\u001b[39;00m\u001b[38;5;250m \u001b[39m\u001b[38;5;28;01mimport\u001b[39;00m SYMPY_INTS\n\u001b[1;32m     28\u001b[0m \u001b[38;5;28;01mfrom\u001b[39;00m\u001b[38;5;250m \u001b[39m\u001b[38;5;21;01msympy\u001b[39;00m\u001b[38;5;21;01m.\u001b[39;00m\u001b[38;5;21;01mutilities\u001b[39;00m\u001b[38;5;21;01m.\u001b[39;00m\u001b[38;5;21;01miterables\u001b[39;00m\u001b[38;5;250m \u001b[39m\u001b[38;5;28;01mimport\u001b[39;00m is_sequence\n\u001b[1;32m     29\u001b[0m \u001b[38;5;28;01mfrom\u001b[39;00m\u001b[38;5;250m \u001b[39m\u001b[38;5;21;01msympy\u001b[39;00m\u001b[38;5;21;01m.\u001b[39;00m\u001b[38;5;21;01mutilities\u001b[39;00m\u001b[38;5;21;01m.\u001b[39;00m\u001b[38;5;21;01mlambdify\u001b[39;00m\u001b[38;5;250m \u001b[39m\u001b[38;5;28;01mimport\u001b[39;00m lambdify\n",
      "File \u001b[0;32m/mnt/c/Users/DELL/dpo2/.venv/lib/python3.9/site-packages/sympy/external/gmpy.py:11\u001b[0m\n\u001b[1;32m      7\u001b[0m \u001b[38;5;28;01mfrom\u001b[39;00m\u001b[38;5;250m \u001b[39m\u001b[38;5;21;01msympy\u001b[39;00m\u001b[38;5;21;01m.\u001b[39;00m\u001b[38;5;21;01mexternal\u001b[39;00m\u001b[38;5;250m \u001b[39m\u001b[38;5;28;01mimport\u001b[39;00m import_module\n\u001b[1;32m      9\u001b[0m \u001b[38;5;28;01mfrom\u001b[39;00m\u001b[38;5;250m \u001b[39m\u001b[38;5;21;01m.\u001b[39;00m\u001b[38;5;21;01mpythonmpq\u001b[39;00m\u001b[38;5;250m \u001b[39m\u001b[38;5;28;01mimport\u001b[39;00m PythonMPQ\n\u001b[0;32m---> 11\u001b[0m \u001b[38;5;28;01mfrom\u001b[39;00m\u001b[38;5;250m \u001b[39m\u001b[38;5;21;01m.\u001b[39;00m\u001b[38;5;21;01mntheory\u001b[39;00m\u001b[38;5;250m \u001b[39m\u001b[38;5;28;01mimport\u001b[39;00m (\n\u001b[1;32m     12\u001b[0m     bit_scan1 \u001b[38;5;28;01mas\u001b[39;00m python_bit_scan1,\n\u001b[1;32m     13\u001b[0m     bit_scan0 \u001b[38;5;28;01mas\u001b[39;00m python_bit_scan0,\n\u001b[1;32m     14\u001b[0m     remove \u001b[38;5;28;01mas\u001b[39;00m python_remove,\n\u001b[1;32m     15\u001b[0m     factorial \u001b[38;5;28;01mas\u001b[39;00m python_factorial,\n\u001b[1;32m     16\u001b[0m     sqrt \u001b[38;5;28;01mas\u001b[39;00m python_sqrt,\n\u001b[1;32m     17\u001b[0m     sqrtrem \u001b[38;5;28;01mas\u001b[39;00m python_sqrtrem,\n\u001b[1;32m     18\u001b[0m     gcd \u001b[38;5;28;01mas\u001b[39;00m python_gcd,\n\u001b[1;32m     19\u001b[0m     lcm \u001b[38;5;28;01mas\u001b[39;00m python_lcm,\n\u001b[1;32m     20\u001b[0m     gcdext \u001b[38;5;28;01mas\u001b[39;00m python_gcdext,\n\u001b[1;32m     21\u001b[0m     is_square \u001b[38;5;28;01mas\u001b[39;00m python_is_square,\n\u001b[1;32m     22\u001b[0m     invert \u001b[38;5;28;01mas\u001b[39;00m python_invert,\n\u001b[1;32m     23\u001b[0m     legendre \u001b[38;5;28;01mas\u001b[39;00m python_legendre,\n\u001b[1;32m     24\u001b[0m     jacobi \u001b[38;5;28;01mas\u001b[39;00m python_jacobi,\n\u001b[1;32m     25\u001b[0m     kronecker \u001b[38;5;28;01mas\u001b[39;00m python_kronecker,\n\u001b[1;32m     26\u001b[0m     iroot \u001b[38;5;28;01mas\u001b[39;00m python_iroot,\n\u001b[1;32m     27\u001b[0m     is_fermat_prp \u001b[38;5;28;01mas\u001b[39;00m python_is_fermat_prp,\n\u001b[1;32m     28\u001b[0m     is_euler_prp \u001b[38;5;28;01mas\u001b[39;00m python_is_euler_prp,\n\u001b[1;32m     29\u001b[0m     is_strong_prp \u001b[38;5;28;01mas\u001b[39;00m python_is_strong_prp,\n\u001b[1;32m     30\u001b[0m     is_fibonacci_prp \u001b[38;5;28;01mas\u001b[39;00m python_is_fibonacci_prp,\n\u001b[1;32m     31\u001b[0m     is_lucas_prp \u001b[38;5;28;01mas\u001b[39;00m python_is_lucas_prp,\n\u001b[1;32m     32\u001b[0m     is_selfridge_prp \u001b[38;5;28;01mas\u001b[39;00m python_is_selfridge_prp,\n\u001b[1;32m     33\u001b[0m     is_strong_lucas_prp \u001b[38;5;28;01mas\u001b[39;00m python_is_strong_lucas_prp,\n\u001b[1;32m     34\u001b[0m     is_strong_selfridge_prp \u001b[38;5;28;01mas\u001b[39;00m python_is_strong_selfridge_prp,\n\u001b[1;32m     35\u001b[0m     is_bpsw_prp \u001b[38;5;28;01mas\u001b[39;00m python_is_bpsw_prp,\n\u001b[1;32m     36\u001b[0m     is_strong_bpsw_prp \u001b[38;5;28;01mas\u001b[39;00m python_is_strong_bpsw_prp,\n\u001b[1;32m     37\u001b[0m )\n\u001b[1;32m     40\u001b[0m __all__ \u001b[38;5;241m=\u001b[39m [\n\u001b[1;32m     41\u001b[0m     \u001b[38;5;66;03m# GROUND_TYPES is either 'gmpy' or 'python' depending on which is used. If\u001b[39;00m\n\u001b[1;32m     42\u001b[0m     \u001b[38;5;66;03m# gmpy is installed then it will be used unless the environment variable\u001b[39;00m\n\u001b[0;32m   (...)\u001b[0m\n\u001b[1;32m     87\u001b[0m     \u001b[38;5;124m'\u001b[39m\u001b[38;5;124mis_strong_bpsw_prp\u001b[39m\u001b[38;5;124m'\u001b[39m,\n\u001b[1;32m     88\u001b[0m ]\n\u001b[1;32m     91\u001b[0m \u001b[38;5;66;03m#\u001b[39;00m\n\u001b[1;32m     92\u001b[0m \u001b[38;5;66;03m# Tested python-flint version. Future versions might work but we will only use\u001b[39;00m\n\u001b[1;32m     93\u001b[0m \u001b[38;5;66;03m# them if explicitly requested by SYMPY_GROUND_TYPES=flint.\u001b[39;00m\n\u001b[1;32m     94\u001b[0m \u001b[38;5;66;03m#\u001b[39;00m\n",
      "File \u001b[0;32m<frozen importlib._bootstrap>:1007\u001b[0m, in \u001b[0;36m_find_and_load\u001b[0;34m(name, import_)\u001b[0m\n",
      "File \u001b[0;32m<frozen importlib._bootstrap>:986\u001b[0m, in \u001b[0;36m_find_and_load_unlocked\u001b[0;34m(name, import_)\u001b[0m\n",
      "File \u001b[0;32m<frozen importlib._bootstrap>:680\u001b[0m, in \u001b[0;36m_load_unlocked\u001b[0;34m(spec)\u001b[0m\n",
      "File \u001b[0;32m<frozen importlib._bootstrap_external>:846\u001b[0m, in \u001b[0;36mexec_module\u001b[0;34m(self, module)\u001b[0m\n",
      "File \u001b[0;32m<frozen importlib._bootstrap_external>:941\u001b[0m, in \u001b[0;36mget_code\u001b[0;34m(self, fullname)\u001b[0m\n",
      "File \u001b[0;32m<frozen importlib._bootstrap_external>:1040\u001b[0m, in \u001b[0;36mget_data\u001b[0;34m(self, path)\u001b[0m\n",
      "\u001b[0;31mKeyboardInterrupt\u001b[0m: "
     ]
    }
   ],
   "source": [
    "# Shape boundary, zero order.\n",
    "env_name = 'shape_boundary'\n",
    "c = 1.05\n",
    "num_optimize_iters = [int(10000 * (c**i)) for i in range(21)]\n",
    "train_helper(env_name, num_optimize_iters, warm_up_threshold=15, zero_order=True, save_interval=5)"
   ]
  },
  {
   "cell_type": "code",
   "execution_count": null,
   "id": "379156db",
   "metadata": {
    "scrolled": false
   },
   "outputs": [],
   "source": [
    "# Shape boundary, first order.\n",
    "env_name = 'shape_boundary'\n",
    "c = 1.05\n",
    "num_optimize_iters = [int(5000 * (c**i)) for i in range(21)]\n",
    "train_helper(env_name, num_optimize_iters, warm_up_threshold=15, zero_order=False, save_interval=5)"
   ]
  },
  {
   "cell_type": "markdown",
   "id": "dd547597",
   "metadata": {},
   "source": [
    "**SHAPE WITH TOPO**"
   ]
  },
  {
   "cell_type": "code",
   "execution_count": null,
   "id": "de018294",
   "metadata": {
    "scrolled": false
   },
   "outputs": [],
   "source": [
    "# Shape, zero order.\n",
    "env_name = 'shape'\n",
    "c = 1.05\n",
    "num_optimize_iters = [int(10000 * (c**i)) for i in range(21)]\n",
    "train_helper(env_name, num_optimize_iters, warm_up_threshold=15, zero_order=True, save_interval=5)"
   ]
  },
  {
   "cell_type": "code",
   "execution_count": null,
   "id": "f2447453",
   "metadata": {},
   "outputs": [],
   "source": [
    "# Shape, first order.\n",
    "env_name = 'shape'\n",
    "c = 1.05\n",
    "num_optimize_iters = [int(5000 * (c**i)) for i in range(21)]\n",
    "train_helper(env_name, num_optimize_iters, warm_up_threshold=15, zero_order=False, save_interval=5)"
   ]
  },
  {
   "cell_type": "markdown",
   "id": "f82deaa3",
   "metadata": {},
   "source": [
    "**MOLECULE**"
   ]
  },
  {
   "cell_type": "code",
   "execution_count": null,
   "id": "dcc42541",
   "metadata": {},
   "outputs": [],
   "source": [
    "from train import train\n",
    "import time\n",
    "def train_helper(env_name, num_optimize_iters, warm_up_threshold, zero_order, save_interval):\n",
    "    start_time = time.time()\n",
    "    train(env_name, num_optimize_iters, warm_up_threshold, zero_order, save_interval)\n",
    "    print('Training takes {} hours'.format(int(time.time()-start_time)/3600))"
   ]
  },
  {
   "cell_type": "code",
   "execution_count": null,
   "id": "938532c3",
   "metadata": {},
   "outputs": [],
   "source": [
    "# Molecule zero order.\n",
    "env_name = 'molecule'\n",
    "c = 1.5\n",
    "num_optimize_iters = [int(1000 * (c**i)) for i in range(10)]\n",
    "train_helper(env_name, num_optimize_iters, warm_up_threshold=5, zero_order=True, save_interval=5)"
   ]
  },
  {
   "cell_type": "code",
   "execution_count": null,
   "id": "236a0810",
   "metadata": {
    "scrolled": false
   },
   "outputs": [],
   "source": [
    "# Molecule first order.\n",
    "env_name = 'molecule'\n",
    "c = 1.5\n",
    "num_optimize_iters = [int(1000 * (c**i)) for i in range(10)]\n",
    "train_helper(env_name, num_optimize_iters, warm_up_threshold=5, zero_order=False, save_interval=5)"
   ]
  },
  {
   "cell_type": "markdown",
   "id": "3afb0fcc",
   "metadata": {},
   "source": [
    "**VISUALIZATION**"
   ]
  },
  {
   "cell_type": "code",
   "execution_count": null,
   "id": "6600346a",
   "metadata": {},
   "outputs": [],
   "source": [
    "from test import visualize\n",
    "from utils import get_environment\n",
    "from benchmarks.sb3_utils import setup_benchmark_model"
   ]
  },
  {
   "cell_type": "code",
   "execution_count": null,
   "id": "b3b041da",
   "metadata": {},
   "outputs": [],
   "source": [
    "# Visualization from benchmark\n",
    "env_name = 'molecule'\n",
    "env = get_environment(env_name)\n",
    "method='SAC'\n",
    "model = setup_benchmark_model(method, env, env_name)\n",
    "visualize(env, model, num_step=100, benchmark_model=True,\n",
    "              extra_args='random', img_path=None)"
   ]
  },
  {
   "cell_type": "code",
   "execution_count": null,
   "id": "5a76f7ac",
   "metadata": {},
   "outputs": [],
   "source": []
  }
 ],
 "metadata": {
  "kernelspec": {
   "display_name": ".venv",
   "language": "python",
   "name": "python3"
  },
  "language_info": {
   "codemirror_mode": {
    "name": "ipython",
    "version": 3
   },
   "file_extension": ".py",
   "mimetype": "text/x-python",
   "name": "python",
   "nbconvert_exporter": "python",
   "pygments_lexer": "ipython3",
   "version": "3.9.22"
  }
 },
 "nbformat": 4,
 "nbformat_minor": 5
}
